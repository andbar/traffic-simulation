{
 "cells": [
  {
   "cell_type": "code",
   "execution_count": 1,
   "metadata": {
    "collapsed": true
   },
   "outputs": [],
   "source": [
    "import random\n",
    "import numpy as np\n",
    "import statistics as st\n",
    "import matplotlib.pyplot as plt"
   ]
  },
  {
   "cell_type": "code",
   "execution_count": 2,
   "metadata": {
    "collapsed": true
   },
   "outputs": [],
   "source": [
    "%matplotlib inline"
   ]
  },
  {
   "cell_type": "code",
   "execution_count": 3,
   "metadata": {
    "collapsed": false
   },
   "outputs": [],
   "source": [
    "#120km/hr is 2 km/min or 33.33 m/sec\n",
    "\n",
    "class Car:\n",
    "    \n",
    "    def __init__(self):\n",
    "        self.topspeed = 33 #meters/sec\n",
    "        self.size = 5\n",
    "        self.decel = -2 #meters/sec with 10% chance each sec\n",
    "        self.accel = 2 #meters/sec if possible\n",
    "        self.speed = 0\n",
    "        self.location = 0\n",
    "        self.cif_location = 0\n",
    "        self.cif_speed = 0\n",
    "    \n",
    "    def will_decelerate(self):\n",
    "        if random.randint(1, 10) == 1:\n",
    "            return True\n",
    "        else:\n",
    "            return False\n",
    "        \n",
    "    def decelerate(self):\n",
    "        self.speed += self.decel\n",
    "        if self.speed < 0:\n",
    "            self.speed = 0\n",
    "        self.location = (self.location + self.speed) % 1000\n",
    "              \n",
    "    def can_accelerate(self):\n",
    "        if self.speed + self.accel <= self.topspeed:\n",
    "            return True\n",
    "        else:\n",
    "            return False\n",
    "        \n",
    "    def accelerate(self):\n",
    "        self.speed += self.accel\n",
    "        self.location = (self.location + self.speed) % 1000\n",
    "    \n",
    "    def get_distance(self, loc):\n",
    "        if loc >= 1000:\n",
    "            distance = 1000 - loc + self.cif_location - 5\n",
    "        else:\n",
    "            distance = self.cif_location - 5 - loc\n",
    "        return distance\n",
    "    \n",
    "    def move_car(self):\n",
    "        cruise_location = self.location + self.speed\n",
    "        cruise_distance = self.get_distance(cruise_location)\n",
    "        if cruise_distance < 1:\n",
    "            self.speed = self.cif_speed\n",
    "            self.location = (self.location + self.speed) % 1000  \n",
    "        else:\n",
    "            if self.will_decelerate() == True:\n",
    "                self.decelerate()\n",
    "            elif self.can_accelerate() == True:\n",
    "                accel_location = self.location + self.speed + self.accel\n",
    "                accel_distance = self.get_distance(accel_location)\n",
    "                if accel_distance < 1:\n",
    "                    self.speed = self.cif_speed\n",
    "                    self.location = (self.location + self.speed) % 1000\n",
    "                else:\n",
    "                    self.accelerate()\n",
    "            else:\n",
    "                self.location = cruise_location % 1000\n",
    "    "
   ]
  },
  {
   "cell_type": "code",
   "execution_count": 4,
   "metadata": {
    "collapsed": false
   },
   "outputs": [],
   "source": [
    "class Traffic_Sim:\n",
    "    \n",
    "    def __init__(self, road_length=1000, num_cars=30, seconds=60):\n",
    "        self.road_length = road_length\n",
    "        self.num_cars = num_cars\n",
    "        self.seconds = seconds\n",
    "        self.cars = self.create_cars()\n",
    "        self.car_start_locations = np.linspace(self.road_length - 30, 0, self.num_cars, dtype=\"int\")\n",
    "       \n",
    "    def create_cars(self):\n",
    "        cars = []\n",
    "        for _ in range(self.num_cars):\n",
    "            cars.append(Car())\n",
    "        return cars\n",
    "    \n",
    "    def place_cars(self):\n",
    "        for index, value in enumerate(self.cars):\n",
    "            value.location = self.car_start_locations[index]\n",
    "            \n",
    "    def pass_car_to_car_behind(self):\n",
    "        for index, value in enumerate(self.cars):\n",
    "            if index == 0:\n",
    "                value.cif_location = self.cars[self.num_cars - 1].location\n",
    "                value.cif_speed = self.cars[self.num_cars - 1].speed\n",
    "            else:\n",
    "                value.cif_location = self.cars[index - 1].location\n",
    "                value.cif_speed = self.cars[index - 1].speed\n",
    "    \n",
    "    def move_cars(self):\n",
    "        for index, value in enumerate(self.cars):\n",
    "            value.move_car()\n",
    "            self.pass_car_to_car_behind()\n",
    "        \n",
    "    def run_traffic_sim(self):\n",
    "        self.place_cars()\n",
    "        self.pass_car_to_car_behind()\n",
    "        results_loc = [[car.location for car in self.cars]]\n",
    "        results_speed = [[car.speed for car in self.cars]]\n",
    "        for sec in range(self.seconds):\n",
    "            self.move_cars()\n",
    "            new_car_locations = [car.location for car in self.cars]\n",
    "            new_car_speeds = [car.speed for car in self.cars]\n",
    "            results_loc.append(new_car_locations)\n",
    "            results_speed.append(new_car_speeds)\n",
    "        return [results_loc, results_speed]\n",
    "   "
   ]
  },
  {
   "cell_type": "code",
   "execution_count": 25,
   "metadata": {
    "collapsed": false
   },
   "outputs": [],
   "source": [
    "traffic_sim_one = Traffic_Sim()"
   ]
  },
  {
   "cell_type": "code",
   "execution_count": 26,
   "metadata": {
    "collapsed": false
   },
   "outputs": [],
   "source": [
    "ts_one = traffic_sim_one.run_traffic_sim()\n",
    "ts_one_results_loc = ts_one[0]\n",
    "ts_one_results_speed = ts_one[1]"
   ]
  },
  {
   "cell_type": "code",
   "execution_count": 27,
   "metadata": {
    "collapsed": false
   },
   "outputs": [
    {
     "data": {
      "image/png": "[encoded data removed]",
      "text/plain": [
       "<matplotlib.figure.Figure at 0x10f0c0b70>"
      ]
     },
     "metadata": {},
     "output_type": "display_data"
    }
   ],
   "source": [
    "time = [[x] * 30 for x in range(61)]\n",
    "colors = ['blue', 'red']\n",
    "fig = plt.figure(figsize=(15,10))\n",
    "plt.scatter(ts_one_results_loc, time, c=colors, marker=\"|\")\n",
    "plt.title(\"Traffic Simulation with 30 Cars for 1 Min on 1km Road\")\n",
    "plt.xlabel(\"Car Locations in Meters\")\n",
    "plt.ylabel(\"Time in Seconds\")\n",
    "plt.show()\n"
   ]
  },
  {
   "cell_type": "code",
   "execution_count": 28,
   "metadata": {
    "collapsed": false
   },
   "outputs": [],
   "source": [
    "avg_speeds = []\n",
    "for time_slice in ts_one_results_speed:\n",
    "    avg_speeds.append(st.mean(time_slice))\n",
    "total_avg_speed = st.mean(avg_speeds)   "
   ]
  },
  {
   "cell_type": "code",
   "execution_count": 29,
   "metadata": {
    "collapsed": false
   },
   "outputs": [
    {
     "data": {
      "text/plain": [
       "24.30273224043716"
      ]
     },
     "execution_count": 29,
     "metadata": {},
     "output_type": "execute_result"
    }
   ],
   "source": [
    "total_avg_speed"
   ]
  },
  {
   "cell_type": "code",
   "execution_count": 30,
   "metadata": {
    "collapsed": true
   },
   "outputs": [],
   "source": [
    "speed_standard_dev = st.stdev(avg_speeds)"
   ]
  },
  {
   "cell_type": "code",
   "execution_count": 31,
   "metadata": {
    "collapsed": false
   },
   "outputs": [
    {
     "data": {
      "text/plain": [
       "9.09056958465234"
      ]
     },
     "execution_count": 31,
     "metadata": {},
     "output_type": "execute_result"
    }
   ],
   "source": [
    "speed_standard_dev"
   ]
  },
  {
   "cell_type": "code",
   "execution_count": 32,
   "metadata": {
    "collapsed": true
   },
   "outputs": [],
   "source": [
    "optimal_speed = speed_standard_dev + total_avg_speed"
   ]
  },
  {
   "cell_type": "code",
   "execution_count": 33,
   "metadata": {
    "collapsed": false
   },
   "outputs": [
    {
     "name": "stdout",
     "output_type": "stream",
     "text": [
      "The optimal speed is 33 m/sec.\n"
     ]
    }
   ],
   "source": [
    "print(\"The optimal speed is {} m/sec.\".format(int(optimal_speed)))"
   ]
  },
  {
   "cell_type": "code",
   "execution_count": 34,
   "metadata": {
    "collapsed": false
   },
   "outputs": [
    {
     "data": {
      "image/png": "[encoded data removed]",
      "text/plain": [
       "<matplotlib.figure.Figure at 0x10ed2e898>"
      ]
     },
     "metadata": {},
     "output_type": "display_data"
    }
   ],
   "source": [
    "plt.scatter(avg_speeds, range(61))\n",
    "plt.vlines(total_avg_speed, ymin=-5, ymax=65, label=\"Mean Speed\")\n",
    "plt.vlines(total_avg_speed + speed_standard_dev, ymin=-5, ymax=65, linestyle=\"dashed\", color=\"red\", label=\"Stand. Dev.\")\n",
    "plt.vlines(total_avg_speed - speed_standard_dev, ymin=-5, ymax=65, linestyle=\"dashed\", color=\"red\")\n",
    "plt.title(\"Average Speed of 30 Cars for 1 Min on 1km Road\")\n",
    "plt.xlabel(\"Average Speed in Meters/Sec\")\n",
    "plt.ylabel(\"Time in Seconds\")\n",
    "plt.legend(bbox_to_anchor=(0.4, 1))\n",
    "plt.show()"
   ]
  },
  {
   "cell_type": "code",
   "execution_count": null,
   "metadata": {
    "collapsed": true
   },
   "outputs": [],
   "source": []
  }
 ],
 "metadata": {
  "kernelspec": {
   "display_name": "Python 3",
   "language": "python",
   "name": "python3"
  },
  "language_info": {
   "codemirror_mode": {
    "name": "ipython",
    "version": 3
   },
   "file_extension": ".py",
   "mimetype": "text/x-python",
   "name": "python",
   "nbconvert_exporter": "python",
   "pygments_lexer": "ipython3",
   "version": "3.5.0"
  }
 },
 "nbformat": 4,
 "nbformat_minor": 0
}

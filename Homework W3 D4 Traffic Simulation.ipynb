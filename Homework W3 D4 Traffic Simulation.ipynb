{
 "cells": [
  {
   "cell_type": "code",
   "execution_count": 3,
   "metadata": {
    "collapsed": true
   },
   "outputs": [],
   "source": [
    "import random\n",
    "import numpy as np\n",
    "import matplotlib.pyplot as plt"
   ]
  },
  {
   "cell_type": "code",
   "execution_count": 2,
   "metadata": {
    "collapsed": true
   },
   "outputs": [],
   "source": [
    "%matplotlib inline"
   ]
  },
  {
   "cell_type": "code",
   "execution_count": 254,
   "metadata": {
    "collapsed": false
   },
   "outputs": [],
   "source": [
    "#120km/hr is 2 km/min or 33.33 m/sec\n",
    "\n",
    "class Car:\n",
    "    \n",
    "    def __init__(self):\n",
    "        self.topspeed = 33 #meters/sec\n",
    "        self.size = 5\n",
    "        self.decel = -2 #meters/sec with 10% chance each sec\n",
    "        self.accel = 2 #meters/sec if possible\n",
    "        self.speed = 0\n",
    "        self.location = 0\n",
    "        self.distance = 0\n",
    "        self.cif_location = 0\n",
    "        self.cif_speed = 0\n",
    "            \n",
    "    def get_distance(self):\n",
    "        if self.location > self.cif_location:\n",
    "            self.distance = 999 - self.location + self.cif_location - 5\n",
    "        else:\n",
    "            self.distance = self.cif_location - 5 - self.location\n",
    "    \n",
    "    def change_car_speed(self):\n",
    "        chance = random.randint(1, 10)\n",
    "        if self.distance == 0:\n",
    "            self.speed = 0\n",
    "        elif chance == 1 and self.speed + self.decel >= 0:\n",
    "            self.speed += self.decel\n",
    "        elif chance == 1 and self.speed + self.decel < 0:\n",
    "            self.speed = 0\n",
    "        elif self.speed + self.accel <= self.topspeed and self.speed + self.accel < self.distance:\n",
    "            self.speed += self.accel\n",
    "    \n",
    "    def car_move(self):\n",
    "        if self.location + self.speed <= 999:\n",
    "            self.location += self.speed\n",
    "        else:\n",
    "            self.location = self.location + self.speed - 1000\n",
    "    "
   ]
  },
  {
   "cell_type": "code",
   "execution_count": 255,
   "metadata": {
    "collapsed": false
   },
   "outputs": [],
   "source": [
    "class Simulation:\n",
    "    \n",
    "    def __init__(self, road_length=1000, num_cars=30):\n",
    "        self.road_length = road_length\n",
    "        self.num_cars = num_cars\n",
    "        self.cars = self.create_cars()\n",
    "        self.car_start_locations = np.linspace(self.road_length - 30, 0, self.num_cars, dtype=\"int\")\n",
    "       \n",
    "    def create_cars(self):\n",
    "        cars = []\n",
    "        for _ in range(self.num_cars):\n",
    "            cars.append(Car())\n",
    "        return cars\n",
    "    \n",
    "    def place_cars(self):\n",
    "        for index, value in enumerate(self.cars):\n",
    "            value.location = self.car_start_locations[index]\n",
    "            \n",
    "    def pass_car_to_car_behind(self):\n",
    "        for index, value in enumerate(self.cars):\n",
    "            if index == 0:\n",
    "                value.cif_location = self.cars[self.num_cars - 1].location\n",
    "                value.cif_speed = self.cars[self.num_cars - 1].speed\n",
    "            else:\n",
    "                value.cif_location = self.cars[index - 1].location\n",
    "                value.cif_speed = self.cars[index - 1].speed\n",
    "    \n",
    "    def move_cars(self):\n",
    "        for index, value in enumerate(self.cars):\n",
    "            value.get_distance()\n",
    "            value.change_car_speed()\n",
    "            value.car_move()\n",
    "            self.pass_car_to_car_behind()\n",
    "    \n",
    "    "
   ]
  },
  {
   "cell_type": "code",
   "execution_count": 256,
   "metadata": {
    "collapsed": false
   },
   "outputs": [],
   "source": [
    "sim = Simulation()"
   ]
  },
  {
   "cell_type": "code",
   "execution_count": 257,
   "metadata": {
    "collapsed": false
   },
   "outputs": [],
   "source": [
    "sim.place_cars()"
   ]
  },
  {
   "cell_type": "code",
   "execution_count": 258,
   "metadata": {
    "collapsed": false
   },
   "outputs": [
    {
     "data": {
      "text/plain": [
       "array([970, 936, 903, 869, 836, 802, 769, 735, 702, 668, 635, 602, 568,\n",
       "       535, 501, 468, 434, 401, 367, 334, 301, 267, 234, 200, 167, 133,\n",
       "       100,  66,  33,   0])"
      ]
     },
     "execution_count": 258,
     "metadata": {},
     "output_type": "execute_result"
    }
   ],
   "source": [
    "sim.car_start_locations"
   ]
  },
  {
   "cell_type": "code",
   "execution_count": 259,
   "metadata": {
    "collapsed": false
   },
   "outputs": [],
   "source": [
    "sim.pass_car_to_car_behind()"
   ]
  },
  {
   "cell_type": "code",
   "execution_count": 276,
   "metadata": {
    "collapsed": false
   },
   "outputs": [],
   "source": [
    "sim.move_cars()"
   ]
  },
  {
   "cell_type": "code",
   "execution_count": 277,
   "metadata": {
    "collapsed": false
   },
   "outputs": [
    {
     "name": "stdout",
     "output_type": "stream",
     "text": [
      "28\n",
      "6\n",
      "993\n",
      "959\n",
      "898\n",
      "824\n",
      "819\n",
      "797\n",
      "790\n",
      "712\n",
      "705\n",
      "684\n",
      "634\n",
      "625\n",
      "591\n",
      "558\n",
      "496\n",
      "473\n",
      "441\n",
      "424\n",
      "359\n",
      "355\n",
      "292\n",
      "288\n",
      "241\n",
      "179\n",
      "178\n",
      "104\n",
      "103\n",
      "34\n"
     ]
    }
   ],
   "source": [
    "for car in sim.cars:\n",
    "    print(car.location)"
   ]
  },
  {
   "cell_type": "code",
   "execution_count": null,
   "metadata": {
    "collapsed": true
   },
   "outputs": [],
   "source": []
  }
 ],
 "metadata": {
  "kernelspec": {
   "display_name": "Python 3",
   "language": "python",
   "name": "python3"
  },
  "language_info": {
   "codemirror_mode": {
    "name": "ipython",
    "version": 3
   },
   "file_extension": ".py",
   "mimetype": "text/x-python",
   "name": "python",
   "nbconvert_exporter": "python",
   "pygments_lexer": "ipython3",
   "version": "3.5.0"
  }
 },
 "nbformat": 4,
 "nbformat_minor": 0
}

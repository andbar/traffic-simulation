{
 "cells": [
  {
   "cell_type": "code",
   "execution_count": 285,
   "metadata": {
    "collapsed": true
   },
   "outputs": [],
   "source": [
    "import random\n",
    "import numpy as np\n",
    "import matplotlib.pyplot as plt"
   ]
  },
  {
   "cell_type": "code",
   "execution_count": 286,
   "metadata": {
    "collapsed": true
   },
   "outputs": [],
   "source": [
    "%matplotlib inline"
   ]
  },
  {
   "cell_type": "code",
   "execution_count": 429,
   "metadata": {
    "collapsed": false
   },
   "outputs": [],
   "source": [
    "#120km/hr is 2 km/min or 33.33 m/sec\n",
    "\n",
    "class Car:\n",
    "    \n",
    "    def __init__(self):\n",
    "        self.topspeed = 33 #meters/sec\n",
    "        self.size = 5\n",
    "        self.decel = -2 #meters/sec with 10% chance each sec\n",
    "        self.accel = 2 #meters/sec if possible\n",
    "        self.speed = 0\n",
    "        self.location = 0\n",
    "        self.distance = 0\n",
    "        self.cif_location = 0\n",
    "        self.cif_speed = 0\n",
    "            \n",
    "    def get_distance(self):\n",
    "        if self.location > self.cif_location:\n",
    "            self.distance = 1000 - self.location + self.cif_location - 5\n",
    "        else:\n",
    "            self.distance = self.cif_location - 5 - self.location\n",
    "        \n",
    "    def get_next_location(self, passed_speed):\n",
    "        return self.location + passed_speed\n",
    "    \n",
    "    def get_next_distance(self, next_loc):\n",
    "        if next_loc >= 1000:\n",
    "            next_distance = 1000 - next_loc + self.cif_location - 5\n",
    "        else:\n",
    "            next_distance = self.cif_location - 5 - next_loc\n",
    "        return next_distance\n",
    "    \n",
    "    def move_car(self):\n",
    "        cruise_location = self.get_next_location(self.speed)\n",
    "        cruise_distance = self.get_next_distance(cruise_location)\n",
    "        accel_location = self.get_next_location(self.speed + self.accel)\n",
    "        accel_distance = self.get_next_distance(accel_location)\n",
    "        decel_location = self.get_next_location(self.speed + self.decel)\n",
    "        decel_distance = self.get_next_distance(decel_location)\n",
    "        if cruise_distance < 1:\n",
    "            self.speed = self.cif_speed\n",
    "            if self.cif_location < 6:\n",
    "                self.location = self.cif_location - 6 + 1000\n",
    "            else:\n",
    "                self.location = self.cif_location - 6\n",
    "        else:\n",
    "            chance_decel = random.randint(1, 10)\n",
    "            if chance_decel == 1 and self.speed > 0:\n",
    "                self.speed += self.decel\n",
    "                self.location = decel_location % 1000\n",
    "            elif self.speed + self.accel <= self.topspeed:\n",
    "                if accel_distance < 1:\n",
    "                    self.speed = self.cif_speed\n",
    "                    if self.cif_location < 6:\n",
    "                        self.location = self.cif_location - 6 + 1000\n",
    "                    else:\n",
    "                        self.location = self.cif_location - 6\n",
    "                else:\n",
    "                    self.speed += self.accel\n",
    "                    self.location = accel_location % 1000\n",
    "            else:\n",
    "                self.location = cruise_location\n",
    "    "
   ]
  },
  {
   "cell_type": "code",
   "execution_count": 430,
   "metadata": {
    "collapsed": false
   },
   "outputs": [],
   "source": [
    "class Road:\n",
    "    \n",
    "    def __init__(self, road_length=1000, num_cars=30):\n",
    "        self.road_length = road_length\n",
    "        self.num_cars = num_cars\n",
    "        self.cars = self.create_cars()\n",
    "        self.car_start_locations = np.linspace(self.road_length - 30, 0, self.num_cars, dtype=\"int\")\n",
    "       \n",
    "    def create_cars(self):\n",
    "        cars = []\n",
    "        for _ in range(self.num_cars):\n",
    "            cars.append(Car())\n",
    "        return cars\n",
    "    \n",
    "    def place_cars(self):\n",
    "        for index, value in enumerate(self.cars):\n",
    "            value.location = self.car_start_locations[index]\n",
    "            \n",
    "    def pass_car_to_car_behind(self):\n",
    "        for index, value in enumerate(self.cars):\n",
    "            if index == 0:\n",
    "                value.cif_location = self.cars[self.num_cars - 1].location\n",
    "                value.cif_speed = self.cars[self.num_cars - 1].speed\n",
    "            else:\n",
    "                value.cif_location = self.cars[index - 1].location\n",
    "                value.cif_speed = self.cars[index - 1].speed\n",
    "    \n",
    "    def move_cars(self):\n",
    "        for index, value in enumerate(self.cars):\n",
    "            #value.get_distance()\n",
    "            value.move_car()\n",
    "            self.pass_car_to_car_behind()\n",
    "    \n",
    "    "
   ]
  },
  {
   "cell_type": "code",
   "execution_count": 431,
   "metadata": {
    "collapsed": false
   },
   "outputs": [],
   "source": [
    "road = Road()"
   ]
  },
  {
   "cell_type": "code",
   "execution_count": 432,
   "metadata": {
    "collapsed": false
   },
   "outputs": [],
   "source": [
    "road.place_cars()"
   ]
  },
  {
   "cell_type": "code",
   "execution_count": 434,
   "metadata": {
    "collapsed": false
   },
   "outputs": [
    {
     "data": {
      "text/plain": [
       "array([970, 936, 903, 869, 836, 802, 769, 735, 702, 668, 635, 602, 568,\n",
       "       535, 501, 468, 434, 401, 367, 334, 301, 267, 234, 200, 167, 133,\n",
       "       100,  66,  33,   0])"
      ]
     },
     "execution_count": 434,
     "metadata": {},
     "output_type": "execute_result"
    }
   ],
   "source": [
    "road.car_start_locations"
   ]
  },
  {
   "cell_type": "code",
   "execution_count": 435,
   "metadata": {
    "collapsed": false
   },
   "outputs": [],
   "source": [
    "road.pass_car_to_car_behind()"
   ]
  },
  {
   "cell_type": "code",
   "execution_count": 460,
   "metadata": {
    "collapsed": false
   },
   "outputs": [
    {
     "name": "stdout",
     "output_type": "stream",
     "text": [
      "C0, 313, 24, 360, 18\n",
      "C1, 307, 24, 313, 24\n",
      "C2, 294, 24, 307, 24\n",
      "C3, 260, 20, 294, 24\n",
      "C4, 242, 16, 260, 20\n",
      "C5, 228, 12, 242, 16\n",
      "C6, 222, 12, 228, 12\n",
      "C7, 216, 12, 222, 12\n",
      "C8, 210, 12, 216, 12\n",
      "C9, 204, 12, 210, 12\n",
      "C10, 194, 8, 204, 12\n",
      "C11, 188, 8, 194, 8\n",
      "C12, 182, 8, 188, 8\n",
      "C13, 176, 8, 182, 8\n",
      "C14, 126, 20, 176, 8\n",
      "C15, 120, 20, 126, 20\n",
      "C16, 114, 20, 120, 20\n",
      "C17, 80, 16, 114, 20\n",
      "C18, 74, 16, 80, 16\n",
      "C19, 44, 12, 74, 16\n",
      "C20, 38, 12, 44, 12\n",
      "C21, 32, 12, 38, 12\n",
      "C22, 26, 12, 32, 12\n",
      "C23, 20, 12, 26, 12\n",
      "C24, 14, 12, 20, 12\n",
      "C25, 8, 12, 14, 12\n",
      "C26, 2, 12, 8, 12\n",
      "C27, 996, 12, 2, 12\n",
      "C28, 390, 22, 996, 12\n",
      "C29, 360, 18, 390, 22\n"
     ]
    }
   ],
   "source": [
    "road.move_cars()\n",
    "for index, car in enumerate(road.cars):\n",
    "    print(\"C{}, {}, {}, {}, {}\".format(index, car.location, car.speed, car.cif_location, car.cif_speed))"
   ]
  },
  {
   "cell_type": "code",
   "execution_count": null,
   "metadata": {
    "collapsed": false
   },
   "outputs": [],
   "source": []
  },
  {
   "cell_type": "code",
   "execution_count": 382,
   "metadata": {
    "collapsed": false
   },
   "outputs": [
    {
     "data": {
      "text/plain": [
       "32"
      ]
     },
     "execution_count": 382,
     "metadata": {},
     "output_type": "execute_result"
    }
   ],
   "source": [
    "32 % 1000"
   ]
  },
  {
   "cell_type": "code",
   "execution_count": 381,
   "metadata": {
    "collapsed": false
   },
   "outputs": [
    {
     "data": {
      "text/plain": [
       "31"
      ]
     },
     "execution_count": 381,
     "metadata": {},
     "output_type": "execute_result"
    }
   ],
   "source": [
    "31 % 1000"
   ]
  },
  {
   "cell_type": "code",
   "execution_count": 386,
   "metadata": {
    "collapsed": false
   },
   "outputs": [
    {
     "data": {
      "text/plain": [
       "996"
      ]
     },
     "execution_count": 386,
     "metadata": {},
     "output_type": "execute_result"
    }
   ],
   "source": []
  },
  {
   "cell_type": "code",
   "execution_count": null,
   "metadata": {
    "collapsed": true
   },
   "outputs": [],
   "source": []
  }
 ],
 "metadata": {
  "kernelspec": {
   "display_name": "Python 3",
   "language": "python",
   "name": "python3"
  },
  "language_info": {
   "codemirror_mode": {
    "name": "ipython",
    "version": 3
   },
   "file_extension": ".py",
   "mimetype": "text/x-python",
   "name": "python",
   "nbconvert_exporter": "python",
   "pygments_lexer": "ipython3",
   "version": "3.5.0"
  }
 },
 "nbformat": 4,
 "nbformat_minor": 0
}

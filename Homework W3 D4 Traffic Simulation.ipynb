{
 "cells": [
  {
   "cell_type": "code",
   "execution_count": 491,
   "metadata": {
    "collapsed": true
   },
   "outputs": [],
   "source": [
    "import random\n",
    "import numpy as np\n",
    "import matplotlib.pyplot as plt"
   ]
  },
  {
   "cell_type": "code",
   "execution_count": 492,
   "metadata": {
    "collapsed": true
   },
   "outputs": [],
   "source": [
    "%matplotlib inline"
   ]
  },
  {
   "cell_type": "code",
   "execution_count": 547,
   "metadata": {
    "collapsed": false
   },
   "outputs": [],
   "source": [
    "#120km/hr is 2 km/min or 33.33 m/sec\n",
    "\n",
    "class Car:\n",
    "    \n",
    "    def __init__(self):\n",
    "        self.topspeed = 33 #meters/sec\n",
    "        self.size = 5\n",
    "        self.decel = -2 #meters/sec with 10% chance each sec\n",
    "        self.accel = 2 #meters/sec if possible\n",
    "        self.speed = 0\n",
    "        self.location = 0\n",
    "        self.cif_location = 0\n",
    "        self.cif_speed = 0\n",
    "            \n",
    "    #def get_distance(self):\n",
    "    #    if self.location > self.cif_location:\n",
    "    #        self.distance = 1000 - self.location + self.cif_location - 5\n",
    "    #    else:\n",
    "    #        self.distance = self.cif_location - 5 - self.location\n",
    "        \n",
    "    #def get_next_location(self, passed_speed):\n",
    "    #    return self.location + passed_speed\n",
    "    \n",
    "    def will_decelerate(self):\n",
    "        if random.randint(1, 10) == 1:\n",
    "            return True\n",
    "        else:\n",
    "            return False\n",
    "        \n",
    "    def decelerate(self):\n",
    "        self.speed += self.decel\n",
    "        if self.speed < 0:\n",
    "            self.speed = 0\n",
    "        self.location = (self.location + self.speed) % 1000\n",
    "        \n",
    "        \n",
    "    def can_accelerate(self):\n",
    "        if self.speed + self.accel <= self.topspeed:\n",
    "            return True\n",
    "        else:\n",
    "            return False\n",
    "        \n",
    "    def accelerate(self):\n",
    "        self.speed += self.accel\n",
    "        self.location = (self.location + self.speed) % 1000\n",
    "    \n",
    "    def get_distance(self, loc):\n",
    "        if loc >= 1000:\n",
    "            distance = 1000 - loc + self.cif_location - 5\n",
    "        else:\n",
    "            distance = self.cif_location - 5 - loc\n",
    "        return distance\n",
    "    \n",
    "    def move_car(self):\n",
    "        cruise_location = self.location + self.speed\n",
    "        cruise_distance = self.get_distance(cruise_location)\n",
    "        if cruise_distance < 1:\n",
    "            self.speed = self.cif_speed\n",
    "            self.location = (self.location + self.speed) % 1000  \n",
    "        else:\n",
    "            if self.will_decelerate() == True:\n",
    "                self.decelerate()\n",
    "            elif self.can_accelerate() == True:\n",
    "                accel_location = self.location + self.speed + self.accel\n",
    "                accel_distance = self.get_distance(accel_location)\n",
    "                if accel_distance < 1:\n",
    "                    self.speed = self.cif_speed\n",
    "                    self.location = (self.location + self.speed) % 1000\n",
    "                else:\n",
    "                    self.accelerate()\n",
    "            else:\n",
    "                self.location = cruise_location % 1000\n",
    "    "
   ]
  },
  {
   "cell_type": "code",
   "execution_count": 548,
   "metadata": {
    "collapsed": false
   },
   "outputs": [],
   "source": [
    "class Traffic_Sim:\n",
    "    \n",
    "    def __init__(self, road_length=1000, num_cars=30, seconds=60):\n",
    "        self.road_length = road_length\n",
    "        self.num_cars = num_cars\n",
    "        self.seconds = seconds\n",
    "        self.cars = self.create_cars()\n",
    "        self.car_start_locations = np.linspace(self.road_length - 30, 0, self.num_cars, dtype=\"int\")\n",
    "       \n",
    "    def create_cars(self):\n",
    "        cars = []\n",
    "        for _ in range(self.num_cars):\n",
    "            cars.append(Car())\n",
    "        return cars\n",
    "    \n",
    "    def place_cars(self):\n",
    "        for index, value in enumerate(self.cars):\n",
    "            value.location = self.car_start_locations[index]\n",
    "            \n",
    "    def pass_car_to_car_behind(self):\n",
    "        for index, value in enumerate(self.cars):\n",
    "            if index == 0:\n",
    "                value.cif_location = self.cars[self.num_cars - 1].location\n",
    "                value.cif_speed = self.cars[self.num_cars - 1].speed\n",
    "            else:\n",
    "                value.cif_location = self.cars[index - 1].location\n",
    "                value.cif_speed = self.cars[index - 1].speed\n",
    "    \n",
    "    def move_cars(self):\n",
    "        for index, value in enumerate(self.cars):\n",
    "            value.move_car()\n",
    "            self.pass_car_to_car_behind()\n",
    "        \n",
    "    def run_traffic_sim(self):\n",
    "        self.place_cars()\n",
    "        self.pass_car_to_car_behind()\n",
    "        results = [[car.location for car in self.cars]]\n",
    "        for sec in range(self.seconds):\n",
    "            self.move_cars()\n",
    "            new_car_locations = [car.location for car in self.cars]\n",
    "            results.append(new_car_locations)\n",
    "        return results\n",
    "    \n",
    "    "
   ]
  },
  {
   "cell_type": "code",
   "execution_count": 549,
   "metadata": {
    "collapsed": false
   },
   "outputs": [],
   "source": [
    "traffic_sim_one = Traffic_Sim()"
   ]
  },
  {
   "cell_type": "code",
   "execution_count": 550,
   "metadata": {
    "collapsed": false
   },
   "outputs": [],
   "source": [
    "ts_one_results = traffic_sim_one.run_traffic_sim()"
   ]
  },
  {
   "cell_type": "code",
   "execution_count": null,
   "metadata": {
    "collapsed": false
   },
   "outputs": [],
   "source": []
  },
  {
   "cell_type": "code",
   "execution_count": 551,
   "metadata": {
    "collapsed": false
   },
   "outputs": [
    {
     "data": {
      "text/plain": [
       "<matplotlib.collections.PathCollection at 0x109b3d898>"
      ]
     },
     "execution_count": 551,
     "metadata": {},
     "output_type": "execute_result"
    },
    {
     "data": {
      "image/png": "[encoded data removed]",
      "text/plain": [
       "<matplotlib.figure.Figure at 0x109777eb8>"
      ]
     },
     "metadata": {},
     "output_type": "display_data"
    }
   ],
   "source": [
    "time = [[x] * 30 for x in range(61)]\n",
    "colors = ['blue', 'red']\n",
    "plt.scatter(ts_one_results, time, c=colors, marker=\"|\")\n"
   ]
  },
  {
   "cell_type": "code",
   "execution_count": null,
   "metadata": {
    "collapsed": false
   },
   "outputs": [],
   "source": []
  },
  {
   "cell_type": "code",
   "execution_count": null,
   "metadata": {
    "collapsed": true
   },
   "outputs": [],
   "source": []
  }
 ],
 "metadata": {
  "kernelspec": {
   "display_name": "Python 3",
   "language": "python",
   "name": "python3"
  },
  "language_info": {
   "codemirror_mode": {
    "name": "ipython",
    "version": 3
   },
   "file_extension": ".py",
   "mimetype": "text/x-python",
   "name": "python",
   "nbconvert_exporter": "python",
   "pygments_lexer": "ipython3",
   "version": "3.5.0"
  }
 },
 "nbformat": 4,
 "nbformat_minor": 0
}
